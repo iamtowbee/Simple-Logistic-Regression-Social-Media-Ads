{
 "cells": [
  {
   "cell_type": "markdown",
   "id": "06ad7ee8-9485-4047-90f3-72db53ee5b46",
   "metadata": {
    "tags": []
   },
   "source": [
    "# Logistic Regression"
   ]
  },
  {
   "cell_type": "markdown",
   "id": "88844884-0726-4afa-867e-250b6ed1474b",
   "metadata": {},
   "source": [
    "This notebook continues my study of how statistical prediction and classification models are implemented in scientific computing. I took the reference from the same GLearning video as the linear regression notebook."
   ]
  },
  {
   "cell_type": "markdown",
   "id": "15923b06-5628-4f21-a36d-492db13f6c5a",
   "metadata": {},
   "source": [
    "> By my understanding, in logistic regression, the idea of classiification is introduced, as opposed to quantifying an outcome (as seen in linear regression). Logistic regression uses the binomial distribution.   \n",
    "\n",
    "In this case, we're trying to predict if a person will purchase a product or not (1 or 0) based on their age and salary. Other data points like user ID and gender will not be used, so we'll trim those columns."
   ]
  },
  {
   "cell_type": "markdown",
   "id": "5b8a5a21-0567-406f-9493-663f8b29b608",
   "metadata": {
    "tags": []
   },
   "source": [
    "## Importing required modules"
   ]
  },
  {
   "cell_type": "code",
   "execution_count": 6,
   "id": "9c63ac35-a2cf-4fd5-b07a-5c69462611d6",
   "metadata": {},
   "outputs": [],
   "source": [
    "import numpy as np\n",
    "import pandas as pd\n",
    "import matplotlib.pyplot as plt"
   ]
  },
  {
   "cell_type": "markdown",
   "id": "8813e017-4dee-4adc-84a1-fe94a13ae4ad",
   "metadata": {},
   "source": [
    "## Import the dataset"
   ]
  },
  {
   "cell_type": "code",
   "execution_count": 7,
   "id": "5de54882-823b-4d09-bbae-3f1a9fa706f3",
   "metadata": {},
   "outputs": [],
   "source": [
    "dataset = pd.read_csv(\"./datasets/Social_Network_Ads.csv\")"
   ]
  },
  {
   "cell_type": "markdown",
   "id": "67c9299f-65b6-4394-be80-c83ace35a498",
   "metadata": {},
   "source": [
    "## Reading through the dataset"
   ]
  },
  {
   "cell_type": "code",
   "execution_count": 8,
   "id": "66c6648b-0611-46ec-8e66-e539b5c322dd",
   "metadata": {},
   "outputs": [
    {
     "data": {
      "text/html": [
       "<div>\n",
       "<style scoped>\n",
       "    .dataframe tbody tr th:only-of-type {\n",
       "        vertical-align: middle;\n",
       "    }\n",
       "\n",
       "    .dataframe tbody tr th {\n",
       "        vertical-align: top;\n",
       "    }\n",
       "\n",
       "    .dataframe thead th {\n",
       "        text-align: right;\n",
       "    }\n",
       "</style>\n",
       "<table border=\"1\" class=\"dataframe\">\n",
       "  <thead>\n",
       "    <tr style=\"text-align: right;\">\n",
       "      <th></th>\n",
       "      <th>User ID</th>\n",
       "      <th>Gender</th>\n",
       "      <th>Age</th>\n",
       "      <th>EstimatedSalary</th>\n",
       "      <th>Purchased</th>\n",
       "    </tr>\n",
       "  </thead>\n",
       "  <tbody>\n",
       "    <tr>\n",
       "      <th>0</th>\n",
       "      <td>15624510</td>\n",
       "      <td>Male</td>\n",
       "      <td>19</td>\n",
       "      <td>19000</td>\n",
       "      <td>0</td>\n",
       "    </tr>\n",
       "    <tr>\n",
       "      <th>1</th>\n",
       "      <td>15810944</td>\n",
       "      <td>Male</td>\n",
       "      <td>35</td>\n",
       "      <td>20000</td>\n",
       "      <td>0</td>\n",
       "    </tr>\n",
       "    <tr>\n",
       "      <th>2</th>\n",
       "      <td>15668575</td>\n",
       "      <td>Female</td>\n",
       "      <td>26</td>\n",
       "      <td>43000</td>\n",
       "      <td>0</td>\n",
       "    </tr>\n",
       "    <tr>\n",
       "      <th>3</th>\n",
       "      <td>15603246</td>\n",
       "      <td>Female</td>\n",
       "      <td>27</td>\n",
       "      <td>57000</td>\n",
       "      <td>0</td>\n",
       "    </tr>\n",
       "    <tr>\n",
       "      <th>4</th>\n",
       "      <td>15804002</td>\n",
       "      <td>Male</td>\n",
       "      <td>19</td>\n",
       "      <td>76000</td>\n",
       "      <td>0</td>\n",
       "    </tr>\n",
       "  </tbody>\n",
       "</table>\n",
       "</div>"
      ],
      "text/plain": [
       "    User ID  Gender  Age  EstimatedSalary  Purchased\n",
       "0  15624510    Male   19            19000          0\n",
       "1  15810944    Male   35            20000          0\n",
       "2  15668575  Female   26            43000          0\n",
       "3  15603246  Female   27            57000          0\n",
       "4  15804002    Male   19            76000          0"
      ]
     },
     "execution_count": 8,
     "metadata": {},
     "output_type": "execute_result"
    }
   ],
   "source": [
    "dataset.head(5)"
   ]
  },
  {
   "cell_type": "markdown",
   "id": "74bf3b7f-8e52-4821-935c-bbc49446ad15",
   "metadata": {},
   "source": [
    "## Filter out unused columns"
   ]
  },
  {
   "cell_type": "code",
   "execution_count": 9,
   "id": "955c4ca8-a09f-4324-8cf1-d6688e99c59c",
   "metadata": {},
   "outputs": [],
   "source": [
    "X = dataset.iloc[:, [2, 3]].values\n",
    "y = dataset.iloc[:, [4]].values"
   ]
  },
  {
   "cell_type": "markdown",
   "id": "ce90f809-04fa-4146-b8fb-7dd62ea368f7",
   "metadata": {},
   "source": [
    "## Split data for training and testing"
   ]
  },
  {
   "cell_type": "code",
   "execution_count": 10,
   "id": "4cc81137-f351-4250-a037-eef220c9dc88",
   "metadata": {},
   "outputs": [],
   "source": [
    "from sklearn.model_selection import train_test_split\n",
    "\n",
    "X_train, X_test, y_train, y_test = train_test_split(X, y, test_size = 0.25, random_state = 0)"
   ]
  },
  {
   "cell_type": "markdown",
   "id": "ba7089ff-e943-4aae-9b8e-566c2250970a",
   "metadata": {},
   "source": [
    "## Feature Scaling"
   ]
  },
  {
   "cell_type": "code",
   "execution_count": 13,
   "id": "09f69ce2-210e-422d-9f7d-2c36a83ccdeb",
   "metadata": {},
   "outputs": [],
   "source": [
    "from sklearn.preprocessing import StandardScaler\n",
    "\n",
    "scaler = StandardScaler()\n",
    "\n",
    "X_train = scaler.fit_transform(X_train)\n",
    "X_test = scaler.transform(X_test)\n"
   ]
  },
  {
   "cell_type": "markdown",
   "id": "cff56bb9-6f12-4f88-b2c7-9f4646614691",
   "metadata": {
    "tags": []
   },
   "source": [
    "## Model Fitting"
   ]
  },
  {
   "cell_type": "code",
   "execution_count": 41,
   "id": "2cf32c0f-2bd6-4c5e-89be-18188772fb2d",
   "metadata": {},
   "outputs": [],
   "source": [
    "from sklearn.linear_model import LogisticRegression\n",
    "\n",
    "model = LogisticRegression()\n",
    "# model.fit(X_train, y_train)"
   ]
  },
  {
   "cell_type": "markdown",
   "id": "ccc1aac3-913d-4d25-815e-5b6cb3c40059",
   "metadata": {
    "tags": []
   },
   "source": [
    "> ### Converting column-vectors to `ndarrays`"
   ]
  },
  {
   "cell_type": "markdown",
   "id": "3a7c1b6d-9af7-45cf-b712-6b9d164e59c3",
   "metadata": {},
   "source": [
    "For some reason, passing y_train as output is not working as intended. After much googling, I discovered why: the original subset of the dataset that created *y_train* was taken from a single column (i.e., `y = dataset.iloc[:, [4]].values`), which means the input data is read as a column-vector as opposed to a n-dimensional array (`ndarray`).  \n",
    "\n",
    "There are two ways to solve  this problem and convert y_train from a vertical column vector to a proper array. We can use Python's inbuilt `ravel()` function or use Numpy's `squeeze()` method. Both return a similar output, however, they're different.\n",
    "\n"
   ]
  },
  {
   "cell_type": "markdown",
   "id": "9e8cbd8d-d72d-4782-8ebe-2aff106178d7",
   "metadata": {},
   "source": [
    "Consider the following 3-dimensional array, with a length, width (breadth), and height of 2, 3, and 5 respectively."
   ]
  },
  {
   "cell_type": "code",
   "execution_count": 42,
   "id": "91d74917-60ff-49bb-b1a8-ff1f08596f83",
   "metadata": {},
   "outputs": [
    {
     "data": {
      "text/plain": [
       "(5, 2, 3)"
      ]
     },
     "execution_count": 42,
     "metadata": {},
     "output_type": "execute_result"
    }
   ],
   "source": [
    "in_arr = np.array([\n",
    "    [\n",
    "        [1, 2, 3], [4, 5, 6],\n",
    "    ],\n",
    "    [\n",
    "        [7, 8, 9], [10, 11, 12]\n",
    "    ],\n",
    "    [\n",
    "        [13, 14, 15], [16, 17, 18]\n",
    "    ],\n",
    "    [\n",
    "        [19, 20, 21], [22, 23, 24]\n",
    "    ],\n",
    "    [\n",
    "        [25, 26, 27], [28, 29, 30]\n",
    "    ]\n",
    "    \n",
    "])\n",
    "in_arr.shape"
   ]
  },
  {
   "cell_type": "markdown",
   "id": "63ee82a3-1603-4c65-9828-2e4161a880fb",
   "metadata": {},
   "source": [
    "> ### A quick detour into 3D Numpy arrays"
   ]
  },
  {
   "cell_type": "markdown",
   "id": "401c1070-9d27-4e64-b59a-cfbfba45a072",
   "metadata": {},
   "source": [
    "You might be wondering, \"well, how did you arrive at those dimensions to model it as a cube?!\" I simply plotted the array using matplotlib and worked out the dimensions."
   ]
  },
  {
   "cell_type": "code",
   "execution_count": 43,
   "id": "d2b38d95-bb8b-4e7d-9699-8046dc9df49f",
   "metadata": {},
   "outputs": [
    {
     "data": {
      "image/png": "[encoded data removed]",
      "text/plain": [
       "<Figure size 640x480 with 1 Axes>"
      ]
     },
     "metadata": {},
     "output_type": "display_data"
    }
   ],
   "source": [
    "fig = plt.figure()\n",
    "ax = fig.add_subplot(111, projection=\"3d\")\n",
    "z, x, y = in_arr.nonzero()\n",
    "ax.scatter(x, y, z, c=z, alpha=1)\n",
    "ax.set_zlabel('Z-Axis (Height)')\n",
    "ax.set_ylabel('Y-Axis (Width)')\n",
    "ax.set_xlabel('X-Axis (Length)')\n",
    "plt.show()"
   ]
  },
  {
   "cell_type": "markdown",
   "id": "dfa4a9b8-5792-4b29-8a11-b325fd8546db",
   "metadata": {},
   "source": [
    "Here's a little poem I've written to help you remember the cubic dimensions of a 3D array returned as a tuple from the `shape()` method:\n",
    "\n",
    "```\n",
    "Though nought is tall\n",
    "Unity lasts long\n",
    "Breathe, two is wide\n",
    "Indices are they\n",
    "```\n",
    "\n",
    "This means that calling `shape()` on a 3D array will return `(HEIGHT, LENGTH, WIDTH)`"
   ]
  },
  {
   "cell_type": "markdown",
   "id": "f6b13e20-b901-4dbb-9a98-a1e58c06077f",
   "metadata": {},
   "source": [
    "> ### Deciding whether to use `ravel()` or `squeeze()`"
   ]
  },
  {
   "cell_type": "markdown",
   "id": "46b8eeae-c5ed-4688-8647-ff41c994faab",
   "metadata": {
    "tags": []
   },
   "source": [
    "Back to my argument on `ravel()`and `squeeze()`. Let's see what both methods will return as output:"
   ]
  },
  {
   "cell_type": "code",
   "execution_count": 44,
   "id": "90786fe5-6211-491d-89f8-f29057c2982b",
   "metadata": {},
   "outputs": [
    {
     "data": {
      "text/plain": [
       "array([[[ 1,  2,  3],\n",
       "        [ 4,  5,  6]],\n",
       "\n",
       "       [[ 7,  8,  9],\n",
       "        [10, 11, 12]],\n",
       "\n",
       "       [[13, 14, 15],\n",
       "        [16, 17, 18]],\n",
       "\n",
       "       [[19, 20, 21],\n",
       "        [22, 23, 24]],\n",
       "\n",
       "       [[25, 26, 27],\n",
       "        [28, 29, 30]]])"
      ]
     },
     "execution_count": 44,
     "metadata": {},
     "output_type": "execute_result"
    }
   ],
   "source": [
    "in_arr"
   ]
  },
  {
   "cell_type": "code",
   "execution_count": 45,
   "id": "8bed3ae1-3f69-4d0c-bb56-f3e8f54b24d2",
   "metadata": {},
   "outputs": [
    {
     "data": {
      "text/plain": [
       "array([ 1,  2,  3,  4,  5,  6,  7,  8,  9, 10, 11, 12, 13, 14, 15, 16, 17,\n",
       "       18, 19, 20, 21, 22, 23, 24, 25, 26, 27, 28, 29, 30])"
      ]
     },
     "execution_count": 45,
     "metadata": {},
     "output_type": "execute_result"
    }
   ],
   "source": [
    "ravel = in_arr.ravel()\n",
    "ravel"
   ]
  },
  {
   "cell_type": "code",
   "execution_count": 46,
   "id": "8d1e8eb8-c21a-4a92-92cc-5b5407788583",
   "metadata": {},
   "outputs": [
    {
     "data": {
      "text/plain": [
       "array([[[ 1,  2,  3],\n",
       "        [ 4,  5,  6]],\n",
       "\n",
       "       [[ 7,  8,  9],\n",
       "        [10, 11, 12]],\n",
       "\n",
       "       [[13, 14, 15],\n",
       "        [16, 17, 18]],\n",
       "\n",
       "       [[19, 20, 21],\n",
       "        [22, 23, 24]],\n",
       "\n",
       "       [[25, 26, 27],\n",
       "        [28, 29, 30]]])"
      ]
     },
     "execution_count": 46,
     "metadata": {},
     "output_type": "execute_result"
    }
   ],
   "source": [
    "sq = np.squeeze(in_arr)\n",
    "sq"
   ]
  },
  {
   "cell_type": "markdown",
   "id": "9946d2f9-099b-40ee-ae13-f3d48dd4a534",
   "metadata": {},
   "source": [
    "\"As you can see,\" calling `ravel()` simply concatenates the entire data into a single 1D array (a list, basically). This might create problems when we can't afford to sacrifice some of the data in the 3D array. This is usually the case when dealing with independent variables that have to be regarded based on the original structure of the 3D array.\n",
    "\n",
    "> On the other hand, `squeeze()` will just trim any redundant dimensions (i.e. which are of size 1). So, if your numpy array's shape is (100, 1), this will result in an array of shape (100,), whereas the result for a numpy array of shape (100, 2) will not change, as none of the dimensions have size 1.\" - Stackoverflow\n",
    "\n",
    "At this point, it's become obvious that one method flattens arrays while the other preserves the shape of 3D arrays. "
   ]
  },
  {
   "cell_type": "markdown",
   "id": "478da405-b849-4573-8635-07498f9d788e",
   "metadata": {},
   "source": [
    "## Model Prediction"
   ]
  },
  {
   "cell_type": "markdown",
   "id": "1bcc81c3-6049-4cab-8024-5066d24eda9a",
   "metadata": {},
   "source": [
    "Now that we've gotten that out of the way, let's fit the model and run the prediction. This is done to see if the machine has learned the data correctly or not."
   ]
  },
  {
   "cell_type": "code",
   "execution_count": 118,
   "id": "7b069fad-20cd-45ff-b318-ad3de186dbde",
   "metadata": {},
   "outputs": [],
   "source": [
    "model.fit(X_train, np.squeeze(y_train))\n",
    "y_predict = model.predict(X_test)"
   ]
  },
  {
   "cell_type": "code",
   "execution_count": 119,
   "id": "b9968bcb-5bb8-42dc-9e59-40feb4257277",
   "metadata": {},
   "outputs": [
    {
     "data": {
      "text/plain": [
       "array([0, 0, 0, 0, 0, 0, 0, 1, 0, 1, 0, 0, 0, 0, 0, 0, 0, 0, 1, 0, 0, 1,\n",
       "       0, 1, 0, 1, 0, 0, 0, 0, 0, 0, 1, 0, 0, 0, 0, 0, 0, 1, 0, 0, 0, 0,\n",
       "       1, 0, 0, 1, 0, 1, 1, 0, 0, 0, 1, 0, 0, 0, 0, 0, 0, 1, 0, 0, 0, 1,\n",
       "       0, 0, 0, 0, 1, 0, 0, 0, 0, 0, 1, 0, 1, 1, 1, 1, 0, 0, 1, 1, 0, 1,\n",
       "       0, 0, 0, 1, 0, 0, 0, 0, 0, 0, 1, 1], dtype=int64)"
      ]
     },
     "execution_count": 119,
     "metadata": {},
     "output_type": "execute_result"
    }
   ],
   "source": [
    "y_predict"
   ]
  },
  {
   "cell_type": "markdown",
   "id": "0eb42529-d9ed-413a-b5d5-a5e878e940b5",
   "metadata": {
    "tags": []
   },
   "source": [
    "## Model Evaluation\n",
    "\n",
    "Pass the testing data into it, and find the difference that exists between test and training data. The data is returned in form of a confusion matrix, which I'll map out as below:"
   ]
  },
  {
   "cell_type": "code",
   "execution_count": 114,
   "id": "4267bf68-ae2b-407f-8e87-66bafa48a611",
   "metadata": {},
   "outputs": [
    {
     "data": {
      "text/html": [
       "<div>\n",
       "<style scoped>\n",
       "    .dataframe tbody tr th:only-of-type {\n",
       "        vertical-align: middle;\n",
       "    }\n",
       "\n",
       "    .dataframe tbody tr th {\n",
       "        vertical-align: top;\n",
       "    }\n",
       "\n",
       "    .dataframe thead th {\n",
       "        text-align: right;\n",
       "    }\n",
       "</style>\n",
       "<table border=\"1\" class=\"dataframe\">\n",
       "  <thead>\n",
       "    <tr style=\"text-align: right;\">\n",
       "      <th></th>\n",
       "      <th></th>\n",
       "      <th>Predicted: YES</th>\n",
       "      <th>Predicted: NO</th>\n",
       "    </tr>\n",
       "  </thead>\n",
       "  <tbody>\n",
       "    <tr>\n",
       "      <th></th>\n",
       "      <td>Actual: YES</td>\n",
       "      <td>True Positive</td>\n",
       "      <td>False Positive</td>\n",
       "    </tr>\n",
       "    <tr>\n",
       "      <th></th>\n",
       "      <td>Actual: NO</td>\n",
       "      <td>False Negative</td>\n",
       "      <td>True Negative</td>\n",
       "    </tr>\n",
       "  </tbody>\n",
       "</table>\n",
       "</div>"
      ],
      "text/plain": [
       "               Predicted: YES   Predicted: NO\n",
       "  Actual: YES   True Positive  False Positive\n",
       "   Actual: NO  False Negative   True Negative"
      ]
     },
     "execution_count": 114,
     "metadata": {},
     "output_type": "execute_result"
    }
   ],
   "source": [
    "cmatrix = [[\"Actual: YES\", \"True Positive\", \"False Positive\"], [\"Actual: NO\", \"False Negative\", \"True Negative\"]]\n",
    "\n",
    "df = pd.DataFrame(cmatrix, columns=[\"\", \"Predicted: YES\", \"Predicted: NO\"], index=[\"\", \"\"])\n",
    "df"
   ]
  },
  {
   "cell_type": "markdown",
   "id": "acd6a64b-0fc7-49ce-99c1-05487d200f97",
   "metadata": {},
   "source": [
    "Basically, we want the values of TP and TN to be high, while minimizing the values of FP and FN. \n",
    "\n",
    "Again, scikit-learn has a `confusion_matrix` module for model evaluation, so let's import it. "
   ]
  },
  {
   "cell_type": "code",
   "execution_count": 120,
   "id": "00fa6908-9cc0-4150-b2f6-962e044cf353",
   "metadata": {
    "tags": []
   },
   "outputs": [
    {
     "data": {
      "text/plain": [
       "array([[65,  3],\n",
       "       [ 8, 24]], dtype=int64)"
      ]
     },
     "execution_count": 120,
     "metadata": {},
     "output_type": "execute_result"
    }
   ],
   "source": [
    "from sklearn.metrics import confusion_matrix, classification_report\n",
    "\n",
    "cm = confusion_matrix(y_test, y_predict)\n",
    "cm"
   ]
  },
  {
   "cell_type": "markdown",
   "id": "3d870ab7-7430-41bb-a3b1-8da093d01952",
   "metadata": {},
   "source": [
    "From our model's output, we can infer the values of TN and TP to be good, which means the accuracy of detection is good.  \n",
    "The incorrect cases (aka FP and FN) are low. Of course, they can be zero also, which denotes 100% accuracy. However, that's difficult to attain in practice."
   ]
  },
  {
   "cell_type": "markdown",
   "id": "72c1ff0d-c672-4ef5-aefc-e7ce65daf761",
   "metadata": {},
   "source": [
    "### Classification Report"
   ]
  },
  {
   "cell_type": "code",
   "execution_count": 121,
   "id": "1fcb9460-23c8-4fe4-bcae-49ac303ce010",
   "metadata": {},
   "outputs": [
    {
     "name": "stdout",
     "output_type": "stream",
     "text": [
      "              precision    recall  f1-score   support\n",
      "\n",
      "           0       0.89      0.96      0.92        68\n",
      "           1       0.89      0.75      0.81        32\n",
      "\n",
      "    accuracy                           0.89       100\n",
      "   macro avg       0.89      0.85      0.87       100\n",
      "weighted avg       0.89      0.89      0.89       100\n",
      "\n",
      "Model accuracy is:  89.0 %\n"
     ]
    }
   ],
   "source": [
    "cl_report = classification_report(y_test, y_predict)\n",
    "print(cl_report)\n",
    "print(\"Model accuracy is: \", (cm[0][0] + cm[1][1]) / np.sum(cm) * 100, \"%\")"
   ]
  },
  {
   "cell_type": "markdown",
   "id": "a66f7939-f8c9-4d61-bd5a-0b799213802a",
   "metadata": {},
   "source": [
    "## Key Takeaways"
   ]
  },
  {
   "cell_type": "markdown",
   "id": "aa2fd2ff-376c-4bda-aa05-629f36148e81",
   "metadata": {},
   "source": [
    "So far, I've learned how to preprocess datasets, scale and fit them into both linear and logistic regression models. I also learned how to work with 3D arrays (finally!) by visualizing them using matplotlib. Apparently, column-vectors (though, 1-dimensioned) are not 1D arrays -- or `ndarrays` at all! They must be converted to a proper array (`numpy.squeeze()` can help with this). \n",
    "\n",
    "There are many other metrics of accuracy, including precision, recall, f1-score etc. I'll be doing more study into them (and more practicing) once I watch the statistics for data science [course](https://www.youtube.com/watch?v=innk6tpRCW0&list=PLlgLmuG_KgbbvMqAS7kSYtdLoLeURW5_b&index=7).\n",
    "\n",
    "Bottom line: There is a vast amount of information, esp. in the area of statistical modelling. It's probably best to map out a clear learning roadmap to avoid *kangarooing*."
   ]
  },
  {
   "cell_type": "code",
   "execution_count": null,
   "id": "f5d0aa49-8eb4-463b-888f-5daa91f15cb9",
   "metadata": {},
   "outputs": [],
   "source": []
  }
 ],
 "metadata": {
  "kernelspec": {
   "display_name": "Python 3 (ipykernel)",
   "language": "python",
   "name": "python3"
  },
  "language_info": {
   "codemirror_mode": {
    "name": "ipython",
    "version": 3
   },
   "file_extension": ".py",
   "mimetype": "text/x-python",
   "name": "python",
   "nbconvert_exporter": "python",
   "pygments_lexer": "ipython3",
   "version": "3.9.13"
  },
  "vscode": {
   "interpreter": {
    "hash": "91f6a04488c6f6c893277af113acfe6c1e243656720881e8cb90c9c6953cd34f"
   }
  }
 },
 "nbformat": 4,
 "nbformat_minor": 5
}
